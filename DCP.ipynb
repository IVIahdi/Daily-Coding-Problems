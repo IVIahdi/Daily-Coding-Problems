{
 "cells": [
  {
   "cell_type": "code",
   "execution_count": 1,
   "metadata": {},
   "outputs": [],
   "source": [
    "def smallestNumberOfQuxes(Quxes :list):\n",
    "    i = 0\n",
    "    count = 0\n",
    "    while len(Quxes) > 1:\n",
    "        if all(element == Quxes[0] for element in Quxes):\n",
    "            break\n",
    "        if i >= len(Quxes)-1:\n",
    "            i = 0\n",
    "            continue\n",
    "        if Quxes[i] != Quxes[i+1]:\n",
    "            Quxes[i] = list(set('RGB') - set(f'{Quxes[i]}{Quxes[i+1]}'))[0]\n",
    "            del Quxes[i+1]\n",
    "            count +=1\n",
    "        i+=1\n",
    "    return f'the remaining creatures are: {Quxes}, you can get to this using only {count} moves'\n",
    "\n"
   ]
  },
  {
   "cell_type": "code",
   "execution_count": 54,
   "metadata": {},
   "outputs": [
    {
     "name": "stdout",
     "output_type": "stream",
     "text": [
      "The list generated: ['R', 'G', 'G', 'G', 'R', 'B', 'G', 'B', 'B', 'B', 'R', 'G', 'B', 'R']\n",
      "R: 4\n",
      "G: 5\n",
      "B: 5\n"
     ]
    },
    {
     "data": {
      "text/plain": [
       "\"the remaining creatures are: ['R', 'R', 'R'], you can get to this using only 11 moves\""
      ]
     },
     "execution_count": 54,
     "metadata": {},
     "output_type": "execute_result"
    }
   ],
   "source": [
    "from collections import Counter\n",
    "import random\n",
    "# randomly select the number of creatures\n",
    "greens = random.randint(0,5)\n",
    "blues = random.randint(0,5)\n",
    "reds = random.randint(0,5)\n",
    "my_list = greens * ['G'] + reds * ['R'] + blues * ['B']\n",
    "\n",
    "# Then randomly arrange them \n",
    "random.shuffle(my_list)\n",
    "print(f'The list generated: {my_list}')\n",
    "\n",
    "# Use Counter to count the occurrences of each character in my_list\n",
    "counts = Counter(my_list)\n",
    "\n",
    "# Print the counts for each character\n",
    "for character, count in counts.items():\n",
    "    print(f'{character}: {count}')\n",
    "\n",
    "smallestNumberOfQuxes(my_list)\n"
   ]
  },
  {
   "cell_type": "code",
   "execution_count": null,
   "metadata": {},
   "outputs": [],
   "source": []
  },
  {
   "cell_type": "code",
   "execution_count": null,
   "metadata": {},
   "outputs": [],
   "source": []
  }
 ],
 "metadata": {
  "kernelspec": {
   "display_name": "Python 3",
   "language": "python",
   "name": "python3"
  },
  "language_info": {
   "codemirror_mode": {
    "name": "ipython",
    "version": 3
   },
   "file_extension": ".py",
   "mimetype": "text/x-python",
   "name": "python",
   "nbconvert_exporter": "python",
   "pygments_lexer": "ipython3",
   "version": "3.10.8"
  },
  "orig_nbformat": 4
 },
 "nbformat": 4,
 "nbformat_minor": 2
}
